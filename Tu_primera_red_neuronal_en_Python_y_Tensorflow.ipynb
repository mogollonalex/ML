{
  "nbformat": 4,
  "nbformat_minor": 0,
  "metadata": {
    "colab": {
      "name": "Tu primera red neuronal en Python y Tensorflow",
      "provenance": [],
      "include_colab_link": true
    },
    "kernelspec": {
      "name": "python3",
      "display_name": "Python 3"
    },
    "language_info": {
      "name": "python"
    }
  },
  "cells": [
    {
      "cell_type": "markdown",
      "metadata": {
        "id": "view-in-github",
        "colab_type": "text"
      },
      "source": [
        "<a href=\"https://colab.research.google.com/github/mogollonalex/ML/blob/main/Tu_primera_red_neuronal_en_Python_y_Tensorflow.ipynb\" target=\"_parent\"><img src=\"https://colab.research.google.com/assets/colab-badge.svg\" alt=\"Open In Colab\"/></a>"
      ]
    },
    {
      "cell_type": "code",
      "metadata": {
        "id": "Hy_pAhzDZ4gy"
      },
      "source": [
        "import tensorflow as tf\n",
        "import numpy as np"
      ],
      "execution_count": 1,
      "outputs": []
    },
    {
      "cell_type": "code",
      "metadata": {
        "id": "MIrfX72vaL1z"
      },
      "source": [
        "celsius = np.array([-40, -10, 0, 8, 15, 22, 38], dtype=float)\n",
        "fahrenheit = np.array([-40, 14, 32, 46, 59, 72, 100], dtype=float)"
      ],
      "execution_count": 2,
      "outputs": []
    },
    {
      "cell_type": "markdown",
      "source": [
        "# 1) Modelo con 1 capa intermedia y con 1 neurona"
      ],
      "metadata": {
        "id": "Orb-cAjs_AMG"
      }
    },
    {
      "cell_type": "code",
      "source": [
        "# Solo una neurona con una capa, usaremos el modelo secuencial\n",
        "capa = tf.keras.layers.Dense(units=1, input_shape=[1])\n",
        "modelo = tf.keras.Sequential([capa])"
      ],
      "metadata": {
        "id": "mVD9qbDB7XSu"
      },
      "execution_count": 3,
      "outputs": []
    },
    {
      "cell_type": "code",
      "source": [
        "# Compilación, esto nos permite posteriormente entrenar el modelo\n",
        "# El optimizador que usaremos se llama Adam, este el permite ajustar los pesos y sesgos de manera eficiente, para que aprenda y no desaprenda\n",
        "modelo.compile(\n",
        "    optimizer=tf.keras.optimizers.Adam(0.1),\n",
        "    loss='mean_squared_error'\n",
        ")"
      ],
      "metadata": {
        "id": "5RVjSfE-7y8X"
      },
      "execution_count": 5,
      "outputs": []
    },
    {
      "cell_type": "code",
      "source": [
        "# Entrenamiento del modelo\n",
        "print(\"Comenzando entrenamiento...\")\n",
        "historial = modelo.fit(celsius, fahrenheit, epochs=1000, verbose=False)\n",
        "print(\"Modelo entrenado!\")"
      ],
      "metadata": {
        "colab": {
          "base_uri": "https://localhost:8080/"
        },
        "id": "p3hZRqkl8Zxn",
        "outputId": "1d00857c-0e7c-4548-a561-b8af7154bcea"
      },
      "execution_count": 6,
      "outputs": [
        {
          "output_type": "stream",
          "name": "stdout",
          "text": [
            "Comenzando entrenamiento...\n",
            "Modelo entrenado!\n"
          ]
        }
      ]
    },
    {
      "cell_type": "code",
      "source": [
        "# Resultado de la función de perdida\n",
        "import matplotlib.pyplot as plt\n",
        "plt.xlabel(\"# Epoca\")\n",
        "plt.ylabel(\"Magnitud de pérdida\")\n",
        "plt.plot(historial.history[\"loss\"])"
      ],
      "metadata": {
        "colab": {
          "base_uri": "https://localhost:8080/",
          "height": 296
        },
        "id": "-X2cK8t58qyr",
        "outputId": "a94d2cb3-e3ef-49d5-cd29-e54dde9f293e"
      },
      "execution_count": 7,
      "outputs": [
        {
          "output_type": "execute_result",
          "data": {
            "text/plain": [
              "[<matplotlib.lines.Line2D at 0x7f96ea9ecbd0>]"
            ]
          },
          "metadata": {},
          "execution_count": 7
        },
        {
          "output_type": "display_data",
          "data": {
            "text/plain": [
              "<Figure size 432x288 with 1 Axes>"
            ],
            "image/png": "[encoded data removed]"
          },
          "metadata": {
            "needs_background": "light"
          }
        }
      ]
    },
    {
      "cell_type": "markdown",
      "source": [
        "Notar que luego de 400 vueltas aproximadamente el algoritmo deja de aprender, o aprende muy poco, por lo que con epochs=400, sera suficiente (nota: esto es un valor que se debe probar hasta encontrar el óptimo)\n"
      ],
      "metadata": {
        "id": "VH07AQxA84WQ"
      }
    },
    {
      "cell_type": "code",
      "source": [
        "# Nuestra primera predicción\n",
        "print(\"Hagamos una predicción!\")\n",
        "resultado = modelo.predict([100.0])\n",
        "print(\"El resultado es \" + str(resultado) + \" fahrenheit!\")"
      ],
      "metadata": {
        "colab": {
          "base_uri": "https://localhost:8080/"
        },
        "id": "FHIXr9Wv9YtR",
        "outputId": "a1cea284-f108-4909-aa22-5fa1a4ed8a9c"
      },
      "execution_count": 9,
      "outputs": [
        {
          "output_type": "stream",
          "name": "stdout",
          "text": [
            "Hagamos una predicción!\n",
            "El resultado es [[211.73993]] fahrenheit!\n"
          ]
        }
      ]
    },
    {
      "cell_type": "code",
      "source": [
        "# Peso y el sesgo respectivamente\n",
        "print(\"Variables internas del modelo\")\n",
        "#print(capa.get_weights())\n",
        "print(capa.get_weights())\n"
      ],
      "metadata": {
        "colab": {
          "base_uri": "https://localhost:8080/"
        },
        "id": "7t-X85749p_D",
        "outputId": "3e2d18a2-0d77-4188-fe7a-ba6ad3469ece"
      },
      "execution_count": 11,
      "outputs": [
        {
          "output_type": "stream",
          "name": "stdout",
          "text": [
            "Variables internas del modelo\n",
            "[array([[1.7984473]], dtype=float32), array([31.895197], dtype=float32)]\n"
          ]
        }
      ]
    },
    {
      "cell_type": "markdown",
      "source": [
        "El peso es de 1.7984473 y el sesgo de 31.895197, recordar que nuestra función objetivo de convertir grados celsius a grados fahrenheit es fahrenheit=celsius*1.8+32, por lo que nuestro modelo se entrenó correctamente con un error muy pequeño"
      ],
      "metadata": {
        "id": "sQse9-NE98k4"
      }
    },
    {
      "cell_type": "markdown",
      "source": [
        "# 2) Modelo con dos capas intermedias con tres neuronas"
      ],
      "metadata": {
        "id": "lp63LUzv-v_w"
      }
    },
    {
      "cell_type": "code",
      "metadata": {
        "id": "RIG6Y5jEafFL"
      },
      "source": [
        "# Modelo con dos capas intermedias con tres neuronas\n",
        "oculta1 = tf.keras.layers.Dense(units=3, input_shape=[1])\n",
        "oculta2 = tf.keras.layers.Dense(units=3)\n",
        "salida = tf.keras.layers.Dense(units=1)\n",
        "modelo = tf.keras.Sequential([oculta1, oculta2, salida])"
      ],
      "execution_count": 12,
      "outputs": []
    },
    {
      "cell_type": "code",
      "metadata": {
        "id": "1_WHzWidbN_8"
      },
      "source": [
        "modelo.compile(\n",
        "    optimizer=tf.keras.optimizers.Adam(0.1),\n",
        "    loss='mean_squared_error'\n",
        ")"
      ],
      "execution_count": 13,
      "outputs": []
    },
    {
      "cell_type": "code",
      "metadata": {
        "colab": {
          "base_uri": "https://localhost:8080/"
        },
        "id": "4D-NuUTnbabR",
        "outputId": "69c515d6-b60e-4815-8831-815b5b7a089f"
      },
      "source": [
        "print(\"Comenzando entrenamiento...\")\n",
        "historial = modelo.fit(celsius, fahrenheit, epochs=1000, verbose=False)\n",
        "print(\"Modelo entrenado!\")"
      ],
      "execution_count": 14,
      "outputs": [
        {
          "output_type": "stream",
          "name": "stdout",
          "text": [
            "Comenzando entrenamiento...\n",
            "Modelo entrenado!\n"
          ]
        }
      ]
    },
    {
      "cell_type": "code",
      "metadata": {
        "colab": {
          "base_uri": "https://localhost:8080/",
          "height": 296
        },
        "id": "px43cF3Nb3mG",
        "outputId": "6d05e52f-4c8a-43c5-e8d6-e50f79cbefe6"
      },
      "source": [
        "import matplotlib.pyplot as plt\n",
        "plt.xlabel(\"# Epoca\")\n",
        "plt.ylabel(\"Magnitud de pérdida\")\n",
        "plt.plot(historial.history[\"loss\"])"
      ],
      "execution_count": 15,
      "outputs": [
        {
          "output_type": "execute_result",
          "data": {
            "text/plain": [
              "[<matplotlib.lines.Line2D at 0x7f96ea3cf350>]"
            ]
          },
          "metadata": {},
          "execution_count": 15
        },
        {
          "output_type": "display_data",
          "data": {
            "text/plain": [
              "<Figure size 432x288 with 1 Axes>"
            ],
            "image/png": "[encoded data removed]"
          },
          "metadata": {
            "needs_background": "light"
          }
        }
      ]
    },
    {
      "cell_type": "markdown",
      "source": [
        "Notar que luego de 100 vueltas aproximadamente el algoritmo deja de aprender, o aprende muy poco, por lo que con epochs=100, sera suficiente (nota: esto es un valor que se debe probar hasta encontrar el óptimo).\n",
        "\n",
        "En este esenario una red más compleja da mejores resultados más rapido, recordar que esto no siempre es asi, esto es experimental."
      ],
      "metadata": {
        "id": "qmeUSejv_78f"
      }
    },
    {
      "cell_type": "code",
      "metadata": {
        "colab": {
          "base_uri": "https://localhost:8080/"
        },
        "id": "esVvhzjMcV9f",
        "outputId": "ad9559c7-68f5-47d7-f853-0e3c5df20dc1"
      },
      "source": [
        "print(\"Hagamos una predicción!\")\n",
        "resultado = modelo.predict([100.0])\n",
        "print(\"El resultado es \" + str(resultado) + \" fahrenheit!\")"
      ],
      "execution_count": 16,
      "outputs": [
        {
          "output_type": "stream",
          "name": "stdout",
          "text": [
            "Hagamos una predicción!\n",
            "El resultado es [[211.74747]] fahrenheit!\n"
          ]
        }
      ]
    },
    {
      "cell_type": "code",
      "metadata": {
        "colab": {
          "base_uri": "https://localhost:8080/"
        },
        "id": "FVDejrBgcokc",
        "outputId": "0e9b8eb0-859a-48df-f407-2676c99924f9"
      },
      "source": [
        "print(\"Variables internas del modelo\")\n",
        "print(oculta1.get_weights())\n",
        "print(oculta2.get_weights())\n",
        "print(salida.get_weights())"
      ],
      "execution_count": 18,
      "outputs": [
        {
          "output_type": "stream",
          "name": "stdout",
          "text": [
            "Variables internas del modelo\n",
            "[array([[-0.11100029,  0.5157373 , -0.4500158 ]], dtype=float32), array([-3.6038728,  3.8812675, -3.9385338], dtype=float32)]\n",
            "[array([[-1.0536821 ,  0.12610526,  0.4325184 ],\n",
            "       [ 0.21155705, -0.66393286,  1.1001501 ],\n",
            "       [-1.3141075 ,  0.64447826,  0.555008  ]], dtype=float32), array([ 3.837536 , -3.8285344,  2.602535 ], dtype=float32)]\n",
            "[array([[ 1.3803104 ],\n",
            "       [-0.90391004],\n",
            "       [ 0.3164189 ]], dtype=float32), array([3.6517909], dtype=float32)]\n"
          ]
        }
      ]
    },
    {
      "cell_type": "markdown",
      "source": [
        ""
      ],
      "metadata": {
        "id": "kU-V8rDVCNvi"
      }
    },
    {
      "cell_type": "markdown",
      "source": [
        "Source: Inspirado en Ringa Tech. Tu primera red neuronal en Python y Tensorflow"
      ],
      "metadata": {
        "id": "r5JUhAyvB908"
      }
    }
  ]
}